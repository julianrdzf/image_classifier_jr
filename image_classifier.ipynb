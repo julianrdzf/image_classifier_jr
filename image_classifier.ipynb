{
 "cells": [
  {
   "cell_type": "markdown",
   "id": "eb13fed0-fdcc-4ae2-acdd-db86ab13bf74",
   "metadata": {},
   "source": [
    "## Image classification problem\n",
    "We are going to tackle an image classification problem using a pretrained model from PyTorch. The selected model is ResNet18, a convolutional neural network with 18 hidden layers.\n",
    "To begin, we load the necessary libraries."
   ]
  },
  {
   "cell_type": "code",
   "execution_count": 4,
   "id": "89acb415-f678-4a4b-9632-49963a0230f0",
   "metadata": {},
   "outputs": [],
   "source": [
    "import os\n",
    "import shutil\n",
    "import random\n",
    "from torchvision import datasets, transforms\n",
    "from torch.utils.data import DataLoader\n",
    "import torch\n",
    "import torch.nn as nn\n",
    "from torchvision import models\n",
    "from torchvision.models import resnet18, ResNet18_Weights\n",
    "import torch.optim as optim"
   ]
  },
  {
   "cell_type": "markdown",
   "id": "96e97376-fa9e-482b-a058-919e1a7d2818",
   "metadata": {},
   "source": [
    "The provided dataset is entirely contained in a folder named 'dogs'.\n",
    "The first step is to split the dataset into two folders: 'train' and 'val', each containing images organized into subfolders according to their respective class.\n",
    "This structure is necessary to use PyTorch’s ImageFolder class, which assumes this directory format for loading labeled image data."
   ]
  },
  {
   "cell_type": "code",
   "execution_count": 5,
   "id": "3bc9c9f1-b628-4c14-bfa5-29cc9ddc2259",
   "metadata": {},
   "outputs": [],
   "source": [
    "def split_dataset(original_dir, output_dir, train_ratio=0.8):\n",
    "    random.seed(42)\n",
    "\n",
    "    # Remove previous folders if they exist\n",
    "    for split in ['train', 'val']:\n",
    "        split_path = os.path.join(output_dir, split)\n",
    "        if os.path.exists(split_path):\n",
    "            shutil.rmtree(split_path)\n",
    "\n",
    "    classes = [d for d in os.listdir(original_dir) if os.path.isdir(os.path.join(original_dir, d))]\n",
    "\n",
    "    for class_name in classes:\n",
    "        class_path = os.path.join(original_dir, class_name)\n",
    "        images = [img for img in os.listdir(class_path) if os.path.isfile(os.path.join(class_path, img))]\n",
    "        random.shuffle(images)\n",
    "\n",
    "        train_size = int(len(images) * train_ratio)\n",
    "        train_images = images[:train_size]\n",
    "        val_images = images[train_size:]\n",
    "\n",
    "        for split, split_images in zip(['train', 'val'], [train_images, val_images]):\n",
    "            split_class_dir = os.path.join(output_dir, split, class_name)\n",
    "            os.makedirs(split_class_dir, exist_ok=True)\n",
    "\n",
    "            for img in split_images:\n",
    "                src = os.path.join(class_path, img)\n",
    "                dst = os.path.join(split_class_dir, img)\n",
    "                shutil.copy2(src, dst)\n",
    "\n",
    "\n",
    "original_dataset_path = \"data/dogs\"         # origiinal data    \n",
    "output_dataset_path = \"data/dataset_split\"  # splited data\n",
    "\n",
    "split_dataset(original_dataset_path, output_dataset_path, train_ratio=0.8)"
   ]
  },
  {
   "cell_type": "markdown",
   "id": "07da8cf4-87c3-44c3-807d-af2fb78e525f",
   "metadata": {},
   "source": [
    "Next, we need to load the data and prepare it for training.\n",
    "Since we are working with a relatively small number of images, a good practice to improve training is to apply data augmentation, which allows us to provide the model with more diverse input from a limited dataset. This technique will be applied only to the training set.\n",
    "Because we are using a pretrained model, we also normalize the dataset to match the preprocessing values used during the model’s pretraining."
   ]
  },
  {
   "cell_type": "code",
   "execution_count": 6,
   "id": "4492ff4c-36f7-4aba-bf87-8d0206364983",
   "metadata": {},
   "outputs": [],
   "source": [
    "transform = transforms.Compose([\n",
    "    transforms.Resize(256),\n",
    "    transforms.CenterCrop(224),\n",
    "    transforms.ToTensor(),\n",
    "    transforms.Normalize(mean=[0.485, 0.456, 0.406], \n",
    "                         std=[0.229, 0.224, 0.225])\n",
    "])\n",
    "\n",
    "# Transforms para entrenamiento con augmentación\n",
    "transform_augm = transforms.Compose([\n",
    "    transforms.RandomResizedCrop(224),            \n",
    "    transforms.RandomHorizontalFlip(),            \n",
    "    transforms.RandomRotation(15),                \n",
    "    transforms.ColorJitter(brightness=0.2, \n",
    "                           contrast=0.2,\n",
    "                           saturation=0.2,\n",
    "                           hue=0.1),              \n",
    "    transforms.ToTensor(),\n",
    "    transforms.Normalize(mean=[0.485, 0.456, 0.406],   \n",
    "                         std=[0.229, 0.224, 0.225])\n",
    "])\n",
    "\n",
    "\n",
    "\n",
    "\n",
    "train_dataset = datasets.ImageFolder(output_dataset_path + \"/train\", transform=transform_augm)\n",
    "val_dataset = datasets.ImageFolder(output_dataset_path + \"/val\", transform=transform)\n",
    "\n",
    "train_loader = DataLoader(train_dataset, batch_size=32, shuffle=True)\n",
    "val_loader = DataLoader(val_dataset, batch_size=32, shuffle=False)"
   ]
  },
  {
   "cell_type": "markdown",
   "id": "eff9e53b-aceb-490e-82b8-6e02262530b4",
   "metadata": {},
   "source": [
    "The model is loaded into the variable 'model'."
   ]
  },
  {
   "cell_type": "code",
   "execution_count": 7,
   "id": "8c2fdf0b-2e0b-41c9-8f3a-0e789b104df7",
   "metadata": {},
   "outputs": [],
   "source": [
    "device = torch.device(\"cuda\" if torch.cuda.is_available() else \"cpu\")\n",
    "\n",
    "weights = ResNet18_Weights.DEFAULT\n",
    "model = resnet18(weights=weights)\n",
    "\n",
    "model.fc = nn.Linear(model.fc.in_features, 4)  # 4 clases\n",
    "\n",
    "model = model.to(device)"
   ]
  },
  {
   "cell_type": "markdown",
   "id": "1e778aca-357a-4210-88f6-48f88bd2f01e",
   "metadata": {},
   "source": [
    "Next, the model is trained using the provided dataset."
   ]
  },
  {
   "cell_type": "code",
   "execution_count": 8,
   "id": "dc937f06-3965-4673-a28b-3f069bc47938",
   "metadata": {},
   "outputs": [
    {
     "name": "stdout",
     "output_type": "stream",
     "text": [
      "Epoch 1, Loss: 1.2876\n",
      "Epoch 2, Loss: 0.7689\n",
      "Epoch 3, Loss: 0.6024\n",
      "Epoch 4, Loss: 0.4210\n",
      "Epoch 5, Loss: 0.3347\n",
      "Epoch 6, Loss: 0.2607\n",
      "Epoch 7, Loss: 0.1592\n",
      "Epoch 8, Loss: 0.1580\n",
      "Epoch 9, Loss: 0.1926\n",
      "Epoch 10, Loss: 0.1952\n"
     ]
    }
   ],
   "source": [
    "criterion = nn.CrossEntropyLoss()\n",
    "optimizer = optim.Adam(model.parameters(), lr=1e-4)\n",
    "\n",
    "for epoch in range(10):\n",
    "    model.train()\n",
    "    for images, labels in train_loader:\n",
    "        images, labels = images.to(device), labels.to(device)\n",
    "\n",
    "        outputs = model(images)\n",
    "        loss = criterion(outputs, labels)\n",
    "\n",
    "        optimizer.zero_grad()\n",
    "        loss.backward()\n",
    "        optimizer.step()\n",
    "\n",
    "    print(f\"Epoch {epoch+1}, Loss: {loss.item():.4f}\")"
   ]
  },
  {
   "cell_type": "markdown",
   "id": "5070dea1-10ac-4c78-893f-9c54e1a54595",
   "metadata": {},
   "source": [
    "To evaluate the model, we use the validation dataset and calculate its accuracy."
   ]
  },
  {
   "cell_type": "code",
   "execution_count": 9,
   "id": "1d97ebd7-fd60-477c-9173-64d12f99df00",
   "metadata": {},
   "outputs": [
    {
     "name": "stdout",
     "output_type": "stream",
     "text": [
      "Validation Accuracy: 0.9375\n"
     ]
    }
   ],
   "source": [
    "model.eval()\n",
    "results = []\n",
    "correct = 0\n",
    "total = 0\n",
    "\n",
    "with torch.no_grad():\n",
    "    for images, labels in val_loader:\n",
    "        images, labels = images.to(device), labels.to(device)\n",
    "        outputs = model(images)\n",
    "\n",
    "        # Calcular probabilidades y predicción\n",
    "        probs = torch.nn.functional.softmax(outputs, dim=1)\n",
    "        max_probs, pred_classes = torch.max(probs, dim=1)\n",
    "\n",
    "        # Contar aciertos\n",
    "        correct += (pred_classes == labels).sum().item()\n",
    "        total += labels.size(0)\n",
    "\n",
    "        # Guardar resultados para cada imagen\n",
    "        for i in range(images.size(0)):\n",
    "            results.append({\n",
    "                'true_class': labels[i].item(),\n",
    "                'predicted_class': pred_classes[i].item(),\n",
    "                'confidence': max_probs[i].item()\n",
    "            })\n",
    "\n",
    "\n",
    "accuracy = correct / total\n",
    "print(f\"Validation Accuracy: {accuracy:.4f}\")"
   ]
  },
  {
   "cell_type": "markdown",
   "id": "0fb6e696-df44-4882-84aa-2dc64aa92c68",
   "metadata": {},
   "source": [
    "To address the problem of classifying a new label \"other,\" we could use the confidence score and find an appropriate threshold.\n",
    "To do this, we can first plot a histogram of the confidence values and observe their behavior."
   ]
  },
  {
   "cell_type": "code",
   "execution_count": 10,
   "id": "a24a7dd8-cf00-4dd1-b6f5-0855368269f2",
   "metadata": {},
   "outputs": [],
   "source": [
    "import pandas as pd\n",
    "import matplotlib.pyplot as plt\n",
    "%matplotlib inline"
   ]
  },
  {
   "cell_type": "code",
   "execution_count": 11,
   "id": "6f356c82-6901-44e7-a95b-0b15277bd10b",
   "metadata": {},
   "outputs": [
    {
     "data": {
      "image/png": "[encoded data removed]",
      "text/plain": [
       "<Figure size 1000x600 with 1 Axes>"
      ]
     },
     "metadata": {},
     "output_type": "display_data"
    }
   ],
   "source": [
    "# pandas DataFrame\n",
    "df = pd.DataFrame(results)\n",
    "\n",
    "# Plot histogram\n",
    "plt.figure(figsize=(10, 6))\n",
    "plt.hist(df['confidence'], bins=10, color='skyblue', alpha=0.6, edgecolor='black')\n",
    "\n",
    "plt.xlabel('Confidence')\n",
    "plt.ylabel('Count')\n",
    "plt.title('Confidence distribution')\n",
    "plt.show()"
   ]
  },
  {
   "cell_type": "markdown",
   "id": "524c9f94-ace2-4291-975e-1d83e78897d2",
   "metadata": {},
   "source": [
    "We have very few data points to perform a thorough analysis of this new problem, but as an initial condition, we could choose a threshold of 0.85 to decide whether a sample belongs to the \"other\" class or not.\n",
    "If data for the \"other\" class were available, the problem could even be approached as a binary classification task, where the threshold choice would depend on various criteria depending on the nature of the problem.\n",
    "One approach could be to find the threshold value that maximizes the F1-score metric."
   ]
  },
  {
   "cell_type": "markdown",
   "id": "52126640-7709-4b73-bd1e-26027021b2f5",
   "metadata": {},
   "source": [
    "As a simple example, a dataset with an additional \"other\" category is loaded, and the model is used for its classification."
   ]
  },
  {
   "cell_type": "code",
   "execution_count": 12,
   "id": "74ef14dd-ef8c-4b4e-ad36-b91ce0a3b086",
   "metadata": {},
   "outputs": [
    {
     "name": "stdout",
     "output_type": "stream",
     "text": [
      "Validation Accuracy (with 'other'): 0.7500\n"
     ]
    }
   ],
   "source": [
    "other_val_dataset = datasets.ImageFolder(\"data/val_with_other\", transform=transform)\n",
    "other_val_loader = DataLoader(val_dataset, batch_size=32, shuffle=False)\n",
    "\n",
    "model.eval()\n",
    "results = []\n",
    "correct = 0\n",
    "total = 0\n",
    "\n",
    "class_names = train_dataset.classes\n",
    "threshold = 0.85\n",
    "other_class = True\n",
    "\n",
    "\n",
    "with torch.no_grad():\n",
    "    for images, labels in other_val_loader:\n",
    "        images, labels = images.to(device), labels.to(device)\n",
    "        outputs = model(images)\n",
    "\n",
    "        probs = torch.nn.functional.softmax(outputs, dim=1)\n",
    "        max_probs, pred_classes = torch.max(probs, dim=1)\n",
    "\n",
    "        for i in range(images.size(0)):\n",
    "            confidence = max_probs[i].item()\n",
    "            true_class = class_names[labels[i].item()]\n",
    "\n",
    "            # Clasificación como \"other\" si aplica\n",
    "            if other_class and confidence < threshold:\n",
    "                predicted_class = \"other\"\n",
    "            else:\n",
    "                predicted_class = class_names[pred_classes[i].item()]\n",
    "\n",
    "            results.append({\n",
    "                'true_class': true_class,\n",
    "                'predicted_class': predicted_class,\n",
    "                'confidence': confidence\n",
    "            })\n",
    "\n",
    "            # count if the prediction matches the true class (including the \"other\" class).\n",
    "            if predicted_class == true_class:\n",
    "                correct += 1\n",
    "\n",
    "            total += 1\n",
    "\n",
    "accuracy = correct / total\n",
    "print(f\"Validation Accuracy (with 'other'): {accuracy:.4f}\")"
   ]
  },
  {
   "cell_type": "markdown",
   "id": "1e9c0350-0e9a-41ff-a263-1e84cc2c5738",
   "metadata": {},
   "source": [
    "We see that this approach could be used as an alternative if the necessary training data is not available."
   ]
  }
 ],
 "metadata": {
  "kernelspec": {
   "display_name": "Python 3 (ipykernel)",
   "language": "python",
   "name": "python3"
  },
  "language_info": {
   "codemirror_mode": {
    "name": "ipython",
    "version": 3
   },
   "file_extension": ".py",
   "mimetype": "text/x-python",
   "name": "python",
   "nbconvert_exporter": "python",
   "pygments_lexer": "ipython3",
   "version": "3.9.16"
  }
 },
 "nbformat": 4,
 "nbformat_minor": 5
}
